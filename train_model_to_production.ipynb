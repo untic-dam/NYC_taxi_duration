{
 "cells": [
  {
   "cell_type": "markdown",
   "id": "7efcb29e",
   "metadata": {},
   "source": [
    "# Import Lib"
   ]
  },
  {
   "cell_type": "code",
   "execution_count": 1,
   "id": "020a39e8",
   "metadata": {},
   "outputs": [],
   "source": [
    "import pandas as pd\n",
    "import numpy as np\n",
    "import matplotlib.pyplot as plt"
   ]
  },
  {
   "cell_type": "markdown",
   "id": "e9ac5807",
   "metadata": {},
   "source": [
    "# Load data"
   ]
  },
  {
   "cell_type": "code",
   "execution_count": 2,
   "id": "4d6431f9",
   "metadata": {},
   "outputs": [],
   "source": [
    "df = pd.read_csv('data.csv')"
   ]
  },
  {
   "cell_type": "markdown",
   "id": "99efd735",
   "metadata": {},
   "source": [
    "# Modele"
   ]
  },
  {
   "cell_type": "markdown",
   "id": "d5d27910",
   "metadata": {},
   "source": [
    "## 1) Features selected"
   ]
  },
  {
   "cell_type": "code",
   "execution_count": 4,
   "id": "bb658590",
   "metadata": {},
   "outputs": [],
   "source": [
    "numerical_features = ['distance']\n",
    "categorical_features = ['weekday', 'hour']\n",
    "pca_loc = ['pickup_longitude', 'pickup_latitude', 'dropoff_longitude', 'dropoff_latitude']"
   ]
  },
  {
   "cell_type": "code",
   "execution_count": 7,
   "id": "4f72bb7a",
   "metadata": {},
   "outputs": [],
   "source": [
    "features = numerical_features + categorical_features + pca_loc\n",
    "\n",
    "y = df['trip_duration']\n",
    "X = df[features]"
   ]
  },
  {
   "cell_type": "markdown",
   "id": "6556ff75",
   "metadata": {},
   "source": [
    "## 2) split"
   ]
  },
  {
   "cell_type": "code",
   "execution_count": 8,
   "id": "20b1a5dc",
   "metadata": {},
   "outputs": [],
   "source": [
    "from sklearn.model_selection import train_test_split\n",
    "\n",
    "X_train, X_test, y_train, y_test = train_test_split(X, y, test_size=0.2, random_state=4)"
   ]
  },
  {
   "cell_type": "markdown",
   "id": "95584f5d",
   "metadata": {},
   "source": [
    "## 3) Preprocessor"
   ]
  },
  {
   "cell_type": "code",
   "execution_count": 9,
   "id": "d64e8cb8",
   "metadata": {},
   "outputs": [],
   "source": [
    "from sklearn.pipeline import make_pipeline\n",
    "from sklearn.preprocessing import StandardScaler, RobustScaler\n",
    "from sklearn.impute import SimpleImputer\n",
    "from sklearn.compose import make_column_transformer\n",
    "from sklearn.preprocessing import OneHotEncoder\n",
    "from sklearn.impute import SimpleImputer\n",
    "from sklearn.model_selection import cross_validate\n",
    "from sklearn.decomposition import PCA\n",
    "\n",
    "#preprocessing\n",
    "\n",
    "numerical_pipeline = make_pipeline(SimpleImputer(), RobustScaler())\n",
    "categorical_pipeline = make_pipeline(SimpleImputer(strategy='most_frequent'), \n",
    "                                     OneHotEncoder(handle_unknown = \"ignore\"))\n",
    "loc_pipeline = make_pipeline(RobustScaler(),\n",
    "                               PCA(n_components=3))\n",
    "\n",
    "preprocessor = make_column_transformer((numerical_pipeline, numerical_features), \n",
    "                                       (categorical_pipeline, categorical_features),\n",
    "                                       (loc_pipeline, pca_loc))"
   ]
  },
  {
   "cell_type": "markdown",
   "id": "6637dcfa",
   "metadata": {},
   "source": [
    "# 4) Estimator"
   ]
  },
  {
   "cell_type": "code",
   "execution_count": 12,
   "id": "c7567b2a",
   "metadata": {},
   "outputs": [],
   "source": [
    "from sklearn.ensemble import GradientBoostingRegressor\n",
    "\n",
    "estimator = GradientBoostingRegressor(n_estimators=200,\n",
    "                                     learning_rate=0.15)"
   ]
  },
  {
   "cell_type": "markdown",
   "id": "5a169a34",
   "metadata": {},
   "source": [
    "# 5) fit"
   ]
  },
  {
   "cell_type": "code",
   "execution_count": 13,
   "id": "723c5e5d",
   "metadata": {},
   "outputs": [
    {
     "data": {
      "text/plain": [
       "Pipeline(steps=[('columntransformer',\n",
       "                 ColumnTransformer(transformers=[('pipeline-1',\n",
       "                                                  Pipeline(steps=[('simpleimputer',\n",
       "                                                                   SimpleImputer()),\n",
       "                                                                  ('robustscaler',\n",
       "                                                                   RobustScaler())]),\n",
       "                                                  ['distance']),\n",
       "                                                 ('pipeline-2',\n",
       "                                                  Pipeline(steps=[('simpleimputer',\n",
       "                                                                   SimpleImputer(strategy='most_frequent')),\n",
       "                                                                  ('onehotencoder',\n",
       "                                                                   OneHotEncoder(handle_unknown='ignore'))]),\n",
       "                                                  ['weekday', 'hour']),\n",
       "                                                 ('pipeline-3',\n",
       "                                                  Pipeline(steps=[('robustscaler',\n",
       "                                                                   RobustScaler()),\n",
       "                                                                  ('pca',\n",
       "                                                                   PCA(n_components=3))]),\n",
       "                                                  ['pickup_longitude',\n",
       "                                                   'pickup_latitude',\n",
       "                                                   'dropoff_longitude',\n",
       "                                                   'dropoff_latitude'])])),\n",
       "                ('gradientboostingregressor',\n",
       "                 GradientBoostingRegressor(learning_rate=0.15,\n",
       "                                           n_estimators=200))])"
      ]
     },
     "execution_count": 13,
     "metadata": {},
     "output_type": "execute_result"
    }
   ],
   "source": [
    "model = make_pipeline(preprocessor, estimator)\n",
    "model.fit(X_train, y_train)"
   ]
  },
  {
   "cell_type": "markdown",
   "id": "2243c0c1",
   "metadata": {},
   "source": [
    "## 6) result"
   ]
  },
  {
   "cell_type": "code",
   "execution_count": 33,
   "id": "5b351473",
   "metadata": {},
   "outputs": [
    {
     "data": {
      "image/png": "[encoded data removed]",
      "text/plain": [
       "<Figure size 432x288 with 1 Axes>"
      ]
     },
     "metadata": {
      "needs_background": "light"
     },
     "output_type": "display_data"
    },
    {
     "name": "stdout",
     "output_type": "stream",
     "text": [
      "       trip_duration\n",
      "count  291141.000000\n",
      "mean        3.721504\n",
      "std         4.331250\n",
      "min         0.000046\n",
      "25%         1.203859\n",
      "50%         2.602902\n",
      "75%         4.746503\n",
      "max       152.887055\n"
     ]
    }
   ],
   "source": [
    "y_pred = model.predict(X_test)\n",
    "#plot error hist\n",
    "err = np.abs(y_test-y_pred)/60\n",
    "s_err = pd.DataFrame(err)\n",
    "s_err.hist(bins=20, range=[0, 10])\n",
    "plt.title(\"error\")\n",
    "plt.show()\n",
    "print(s_err.describe())\n"
   ]
  },
  {
   "cell_type": "code",
   "execution_count": 31,
   "id": "6ef05475",
   "metadata": {},
   "outputs": [
    {
     "name": "stdout",
     "output_type": "stream",
     "text": [
      "r2 = 76.85%\n"
     ]
    },
    {
     "data": {
      "image/png": "[encoded data removed]",
      "text/plain": [
       "<Figure size 432x432 with 1 Axes>"
      ]
     },
     "metadata": {
      "needs_background": "light"
     },
     "output_type": "display_data"
    },
    {
     "data": {
      "image/png": "[encoded data removed]",
      "text/plain": [
       "<Figure size 432x288 with 1 Axes>"
      ]
     },
     "metadata": {
      "needs_background": "light"
     },
     "output_type": "display_data"
    },
    {
     "name": "stdout",
     "output_type": "stream",
     "text": [
      "       trip_duration\n",
      "count    1000.000000\n",
      "mean        3.812582\n",
      "std         4.076315\n",
      "min         0.001251\n",
      "25%         1.225976\n",
      "50%         2.722663\n",
      "75%         4.893726\n",
      "max        41.933058\n"
     ]
    }
   ],
   "source": [
    "from sklearn.metrics import r2_score\n",
    "\n",
    "def plot_sim_vs_obs(model, X_test, y_test):\n",
    "\n",
    "    y_pred = model.predict(X_test)\n",
    "    \n",
    "    r2 = r2_score(y_test, y_pred)\n",
    "    print('r2 = {:.2%}'.format(r2))\n",
    "    \n",
    "    sim = list(y_pred)\n",
    "    obs = list(y_test)\n",
    "\n",
    "    plt.figure(figsize=(6,6))\n",
    "    lim_max= 4000\n",
    "    lim_min = 0\n",
    "    plt.scatter(sim, obs)\n",
    "    plt.xlim(lim_min,lim_max)\n",
    "    plt.xlabel('Simulation')\n",
    "    plt.ylim(lim_min,lim_max)\n",
    "    plt.ylabel('Observation')\n",
    "    \n",
    "    a = [lim_min, lim_max]\n",
    "    b = [lim_min, lim_max]\n",
    "    plt.plot(a, b, 'r-')\n",
    "    plt.show()\n",
    "    \n",
    "    \n",
    "    #plot error hist\n",
    "    err = np.abs(y_test-y_pred)/60\n",
    "    s_err = pd.DataFrame(err)\n",
    "    q_75 = int(s_err.quantile(q=0.75))\n",
    "    s_err.hist(bins=20, range=[0, 10])\n",
    "    plt.title(\"error\")\n",
    "    plt.show()\n",
    "    print(s_err.describe())\n",
    "\n",
    "    \n",
    "df_sample = df.sample(n=1000)\n",
    "X_sample = df_sample[features]\n",
    "y_sample = df_sample['trip_duration']\n",
    "\n",
    "plot_sim_vs_obs(model, X_sample, y_sample)"
   ]
  },
  {
   "cell_type": "markdown",
   "id": "62239a49",
   "metadata": {},
   "source": [
    "## 7) export model"
   ]
  },
  {
   "cell_type": "code",
   "execution_count": 37,
   "id": "597010ff",
   "metadata": {},
   "outputs": [
    {
     "data": {
      "text/plain": [
       "['model_nyc_taxi.joblib']"
      ]
     },
     "execution_count": 37,
     "metadata": {},
     "output_type": "execute_result"
    }
   ],
   "source": [
    "import joblib\n",
    "\n",
    "joblib.dump(model, 'model_nyc_taxi.joblib')"
   ]
  },
  {
   "cell_type": "code",
   "execution_count": null,
   "id": "30d66cf4",
   "metadata": {},
   "outputs": [],
   "source": []
  }
 ],
 "metadata": {
  "kernelspec": {
   "display_name": "Python 3.9.7 ('myenv')",
   "language": "python",
   "name": "python397jvsc74a57bd0e47b1a34c05c1e3b83a62d7885c9d1b5ef8a0522d3be0182d0a008ec409b2b3d"
  },
  "language_info": {
   "codemirror_mode": {
    "name": "ipython",
    "version": 3
   },
   "file_extension": ".py",
   "mimetype": "text/x-python",
   "name": "python",
   "nbconvert_exporter": "python",
   "pygments_lexer": "ipython3",
   "version": "3.9.7"
  }
 },
 "nbformat": 4,
 "nbformat_minor": 5
}
